{
 "cells": [
  {
   "cell_type": "markdown",
   "metadata": {
    "colab_type": "text",
    "id": "2O2yYEtoP5Mw"
   },
   "source": [
    "### Get Square Unique Count\n",
    "We define a square number to be an integer whose square root is another integer. \n",
    "\n",
    "For example, 1, 4, 9, and 16 are all square numbers as they are the respective squares of 1, 2, 3, and 4. \n",
    "\n",
    "I have two integers, a and b, and wants to count the number of square numbers in the inclusive interval [a, b]. \n",
    "\n",
    "For example, if a = 4 and b =10,\n",
    "\n",
    "My count would be 2 because the only square numbers in {4, 5, 6, 7, 8, 9} are 4 and 9. \n"
   ]
  },
  {
   "cell_type": "code",
   "execution_count": 8,
   "metadata": {
    "colab": {},
    "colab_type": "code",
    "id": "F3XGMHQpP7xy"
   },
   "outputs": [],
   "source": [
    "import numpy as np\n",
    "import math\n",
    "   \n",
    "def q01_get_minimum_unique_square(x,y):\n",
    "        #Counter for output increment\n",
    "        count=0\n",
    "        #Arranging input paramters of function for the list\n",
    "        num=np.arange(x,y+1)\n",
    "        #Looping through till length of variable\n",
    "        for i in num:\n",
    "            #Condition check for squareroot if difference is 0\n",
    "            if (np.sqrt(i) - math.floor(np.sqrt(i))==0):\n",
    "                count+=1\n",
    "        return count\n",
    " \n"
   ]
  },
  {
   "cell_type": "code",
   "execution_count": 11,
   "metadata": {},
   "outputs": [
    {
     "name": "stdout",
     "output_type": "stream",
     "text": [
      "Enter Numbers to find perfect square in between\n",
      "Start-->4\n",
      "End-->10\n",
      "There are total of 2 perfect square numbers\n"
     ]
    }
   ],
   "source": [
    "print(\"Enter Numbers to find perfect square in between\")\n",
    "x=int(input(prompt='Start-->'))\n",
    "y=int(input(prompt='End-->'))\n",
    "print(\"There are total of {} perfect square numbers\".format(q01_get_minimum_unique_square(x,y)))"
   ]
  }
 ],
 "metadata": {
  "colab": {
   "collapsed_sections": [],
   "name": "get_Square_Unique_Count.ipynb",
   "provenance": []
  },
  "kernelspec": {
   "display_name": "Python 3",
   "language": "python",
   "name": "python3"
  },
  "language_info": {
   "codemirror_mode": {
    "name": "ipython",
    "version": 3
   },
   "file_extension": ".py",
   "mimetype": "text/x-python",
   "name": "python",
   "nbconvert_exporter": "python",
   "pygments_lexer": "ipython3",
   "version": "3.7.4"
  }
 },
 "nbformat": 4,
 "nbformat_minor": 1
}
