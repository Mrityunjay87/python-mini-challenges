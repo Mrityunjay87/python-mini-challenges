{
 "cells": [
  {
   "cell_type": "markdown",
   "metadata": {
    "colab_type": "text",
    "id": "v_7As_kZOnrE"
   },
   "source": [
    "### Longest Even Length Word\n",
    "Consider a string, sentence, of space-separated words where each word is a substring consisting of English alphabetic letters only.\n",
    "We want to find the first word in sentence having a length which is both an even number and greater than or\n",
    "equal to the length of any other word of even length in the sentence. \n",
    "\n",
    "For example, if sentence is `Time to write great code` , then the word we're looking for is Time .\n",
    "\n",
    "While code and Time are of maximal length, Time occurs first. \n",
    "If sentence is `Write code for a great time` , then the word we're looking for is code.  "
   ]
  },
  {
   "cell_type": "code",
   "execution_count": 5,
   "metadata": {
    "colab": {},
    "colab_type": "code",
    "id": "uVkk0tAROpMa"
   },
   "outputs": [],
   "source": [
    "data1 = 'One great way to make predictions about an unfamiliar nonfiction text is to take a walk through the book before reading.'\n",
    "data2 = 'photographs or other images, readers can start to get a sense about the topic. This scanning and skimming helps set the expectation for the reading.'\n",
    "data3 = ' testing very9 important'"
   ]
  },
  {
   "cell_type": "code",
   "execution_count": 7,
   "metadata": {},
   "outputs": [],
   "source": [
    "#Importing necessary packages\n",
    "import pandas as pd\n",
    "import numpy as np"
   ]
  },
  {
   "cell_type": "code",
   "execution_count": 2,
   "metadata": {},
   "outputs": [],
   "source": [
    "#Function for Splitting Words\n",
    "def splitword(data):\n",
    "    temp={}\n",
    "    data.lower()\n",
    "    split_data=data.split()\n",
    "    for i in range(0,len(split_data)):\n",
    "        temp.update({split_data[i]:len(split_data[i])})\n",
    "        output=pd.DataFrame(temp.items(),columns=['word','count'])\n",
    "    return output"
   ]
  },
  {
   "cell_type": "code",
   "execution_count": 3,
   "metadata": {
    "colab": {},
    "colab_type": "code",
    "id": "QHYzvKW0OxYI"
   },
   "outputs": [],
   "source": [
    "#Function for finding Longest Even word\n",
    "def q01_longest_even_word(sentence):\n",
    "    test=splitword(sentence)#Call to the function created above\n",
    "    if (test['count']%2==0).any():\n",
    "        output=test.word[test[test['count']%2==0]['count'].idxmax()]\n",
    "    else:\n",
    "        output=0\n",
    "    return output"
   ]
  },
  {
   "cell_type": "code",
   "execution_count": 8,
   "metadata": {
    "colab": {},
    "colab_type": "code",
    "id": "SqOygkyJOzgh"
   },
   "outputs": [
    {
     "data": {
      "text/plain": [
       "0"
      ]
     },
     "execution_count": 8,
     "metadata": {},
     "output_type": "execute_result"
    }
   ],
   "source": [
    "q01_longest_even_word(data3)"
   ]
  }
 ],
 "metadata": {
  "colab": {
   "collapsed_sections": [],
   "name": "Untitled0.ipynb",
   "provenance": []
  },
  "kernelspec": {
   "display_name": "Python 3",
   "language": "python",
   "name": "python3"
  },
  "language_info": {
   "codemirror_mode": {
    "name": "ipython",
    "version": 3
   },
   "file_extension": ".py",
   "mimetype": "text/x-python",
   "name": "python",
   "nbconvert_exporter": "python",
   "pygments_lexer": "ipython3",
   "version": "3.7.4"
  }
 },
 "nbformat": 4,
 "nbformat_minor": 1
}
