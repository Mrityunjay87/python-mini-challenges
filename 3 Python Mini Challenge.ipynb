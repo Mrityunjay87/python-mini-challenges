{
 "cells": [
  {
   "cell_type": "markdown",
   "metadata": {
    "colab_type": "text",
    "id": "BQs96GGYN3-R"
   },
   "source": [
    "# Python Mini Challenges\n",
    "\n",
    "The most entertaining(and satisfying) way to improve your skills in a programming language is by doing challenges. Every challenge that is given in this assessment module can be solved by a bit of python programming and logical thinking.\n",
    "\n",
    "Some challenges may look easy,some may look tough but we hope you solve them all with the same vigour.\n",
    "\n",
    "All the best."
   ]
  },
  {
   "cell_type": "markdown",
   "metadata": {
    "colab_type": "text",
    "id": "f7xPtvF_N3-V"
   },
   "source": [
    "# Smallest Palindrome\n",
    "\n",
    "\n",
    "Create a function called `palindrome(num)` that given a number `'num'`, finds the next smallest palindrome and returns it\n",
    "\n",
    "For eg:\n",
    "***\n",
    "**Input**\n",
    "\n",
    "```python\n",
    "palindrome(123)\n",
    "```\n",
    "\n",
    "**Output**\n",
    "```python\n",
    "131\n",
    "```\n",
    "***\n",
    "**Input**\n",
    "\n",
    "```python\n",
    "palindrome(1331)\n",
    "```\n",
    "\n",
    "**Output**\n",
    "```python\n",
    "1441\n",
    "```\n"
   ]
  },
  {
   "cell_type": "markdown",
   "metadata": {
    "colab_type": "text",
    "id": "rhbl4whqN3-X"
   },
   "source": [
    "# Hints\n",
    "You can check for a palindrome by writing code similar to:\n",
    "```python\n",
    "num=str(num)\n",
    "print(num[::-1]==num)\n",
    "\n",
    "```\n",
    "\n",
    "# Test Cases\n",
    "\n",
    "Function declaration check\n",
    "\n",
    "(palindrome(8)==9)\n",
    "\n",
    "(palindrome(12)==22)\n",
    "\n",
    "(palindrome(13456)==13531)\n"
   ]
  },
  {
   "cell_type": "code",
   "execution_count": 1,
   "metadata": {
    "colab": {},
    "colab_type": "code",
    "id": "KgB58ZGjN3-Y"
   },
   "outputs": [],
   "source": [
    "def palindrome(num):\n",
    "    #Incrementing to find next from given input\n",
    "    num=str(num+1)\n",
    "    #Looping untill True\n",
    "    while True:\n",
    "        if (num==num[::-1]):\n",
    "            num=int(num)\n",
    "            break\n",
    "        else:\n",
    "            num=str(int(num)+1)\n",
    "    return num\n"
   ]
  },
  {
   "cell_type": "code",
   "execution_count": 2,
   "metadata": {},
   "outputs": [
    {
     "name": "stdout",
     "output_type": "stream",
     "text": [
      "Enter Number to find next Palindrome number\n",
      "Number-->1332\n",
      "The next Palindrome of 1332 is 1441 \n"
     ]
    }
   ],
   "source": [
    "print(\"Enter Number to find next Palindrome number\")\n",
    "x=int(input(prompt='Number-->'))\n",
    "print(\"The next Palindrome of {} is {} \".format(x,palindrome(x)))"
   ]
  },
  {
   "cell_type": "markdown",
   "metadata": {
    "colab_type": "text",
    "id": "nAJuHtMoN3-h"
   },
   "source": [
    "# Success Message\n",
    "\n",
    "Congrats! You have successfully finished this challenge."
   ]
  },
  {
   "cell_type": "markdown",
   "metadata": {
    "colab_type": "text",
    "id": "M8RAFjWFN3-i"
   },
   "source": [
    "# Anagram Scramble\n",
    "\n",
    "Create a function called `'a_scramble(str_1, str_2)'` that given the strings`'str_1'`,`'str_2'` returns `True` if a portion of `'str_1'` characters can be scrambled to match `'str2'`, else return `False`\n",
    "\n",
    "For eg:\n",
    "***\n",
    "**Input**\n",
    "\n",
    "```python\n",
    "a_scramble(\"Tom Marvolo Riddle\",\"Voldemort\")\n",
    "```\n",
    "\n",
    "**Output**\n",
    "```python\n",
    "True\n",
    "```\n",
    "***\n",
    "**Input**\n",
    "\n",
    "```python\n",
    "a_scramble(\"ticket\",\"chat\")\n",
    "```\n",
    "\n",
    "**Output**\n",
    "```python\n",
    "False\n",
    "```\n"
   ]
  },
  {
   "cell_type": "markdown",
   "metadata": {
    "colab_type": "text",
    "id": "jLj344lFN3-j"
   },
   "source": [
    "# Hints\n",
    "\n",
    "For the case where `str_1=\"skatepark\"` and `str_2=\"sparks\"`, the function should return False because `'str_1'` has only one occurence of `s`\n",
    "\n",
    "You can implement that by removing the occurence of the character from str_1 after comparing it with characters from str_2.\n",
    "    \n",
    "\n",
    "# Test Cases\n",
    "\n",
    "\n",
    "a_scramble(\"labratory\",\"Bat\")==True\n",
    "\n",
    "a_scramble(\"baby shower\",\"shows\")==False\n",
    "\n",
    "a_scramble(\"eatcher\",\"teacher\")==True\n",
    "\n"
   ]
  },
  {
   "cell_type": "code",
   "execution_count": 3,
   "metadata": {
    "colab": {},
    "colab_type": "code",
    "id": "70P3UCwzN3-k"
   },
   "outputs": [],
   "source": [
    "#Method 1 using native python str\n",
    "def a_scramble1(str_1, str_2):\n",
    "    mod_str_1=list((str_1.replace(\" \", \"\").lower()))\n",
    "    mod_str_2=list(str_2.lower())\n",
    "    return all(item in mod_str_1 for item in mod_str_2 )\n",
    "\n",
    "#Method2 using list to set transformation\n",
    "def a_scramble2(str_1, str_2):\n",
    "    mod_str_1=list((str_1.replace(\" \", \"\").lower()))\n",
    "    mod_str_2=list(str_2.lower())\n",
    "    return (set(mod_str_2).issubset(set(mod_str_1)))\n",
    "\n",
    "#Method 3 using set method to find subset\n",
    "def a_scramble3(str_1, str_2):\n",
    "    mod_str_1=set((str_1.replace(\" \", \"\").lower()))\n",
    "    mod_str_2=set(str_2.lower())\n",
    "    return (mod_str_2.issubset(mod_str_1)) "
   ]
  },
  {
   "cell_type": "code",
   "execution_count": 8,
   "metadata": {},
   "outputs": [
    {
     "data": {
      "text/plain": [
       "True"
      ]
     },
     "execution_count": 8,
     "metadata": {},
     "output_type": "execute_result"
    }
   ],
   "source": [
    "#Test Of Method1\n",
    "a_scramble1(\"labratory\",\"Bat\")"
   ]
  },
  {
   "cell_type": "code",
   "execution_count": 7,
   "metadata": {},
   "outputs": [
    {
     "data": {
      "text/plain": [
       "True"
      ]
     },
     "execution_count": 7,
     "metadata": {},
     "output_type": "execute_result"
    }
   ],
   "source": [
    "#Test Of Method 2\n",
    "a_scramble2(\"baby shower\",\"shows\")"
   ]
  },
  {
   "cell_type": "code",
   "execution_count": 10,
   "metadata": {},
   "outputs": [
    {
     "data": {
      "text/plain": [
       "True"
      ]
     },
     "execution_count": 10,
     "metadata": {},
     "output_type": "execute_result"
    }
   ],
   "source": [
    "#Test Of Method 3\n",
    "a_scramble3(\"eatcher\",\"teacher\")"
   ]
  },
  {
   "cell_type": "markdown",
   "metadata": {
    "colab_type": "text",
    "id": "8wIbcwK1N3-p"
   },
   "source": [
    "# Success Message\n",
    "\n",
    "Congrats! You have successfully finished this challenge."
   ]
  },
  {
   "cell_type": "markdown",
   "metadata": {
    "colab_type": "text",
    "id": "cKRsSV4PN3-q"
   },
   "source": [
    "# Fibonacci Check\n",
    "\n",
    "Create a function called `check_fib(num)` that checks if the given number `'num'` is part of the [fibonacci sequence](https://en.wikipedia.org/wiki/Fibonacci_number) and returns `True` if it is, else `False`\n",
    "\n",
    "For eg:\n",
    "***\n",
    "**Input**\n",
    "\n",
    "```python\n",
    "check_fib(145)\n",
    "```\n",
    "\n",
    "**Output**\n",
    "```python\n",
    "False\n",
    "```\n",
    "***\n",
    "**Input**\n",
    "\n",
    "```python\n",
    "check_fib(377)\n",
    "```\n",
    "\n",
    "**Output**\n",
    "```python\n",
    "True\n",
    "```\n",
    "\n",
    "\n"
   ]
  },
  {
   "cell_type": "markdown",
   "metadata": {
    "colab_type": "text",
    "id": "ZJdToExpN3-s"
   },
   "source": [
    "# Hints\n",
    "A number `'n'` is part of fibonacci sequence if\n",
    "`(5*n*n) + 4)` or `((5*n*n) - 4)` or `both` is a perfect square\n",
    "\n",
    "\n",
    "# Test Cases\n",
    "\n",
    "check_fib(456)==False\n",
    "\n",
    "check_fib(987)==True"
   ]
  },
  {
   "cell_type": "code",
   "execution_count": 11,
   "metadata": {
    "colab": {},
    "colab_type": "code",
    "id": "ZRz-dfrrN3-u"
   },
   "outputs": [],
   "source": [
    "#Fibonacci Sequence\n",
    "import math\n",
    "import numpy as np\n",
    "\n",
    "def check_fib(num):\n",
    "    num_sqr_plus=np.sqrt((5*num*num) + 4)\n",
    "    num_sqr_minus=np.sqrt((5*num*num) - 4)\n",
    "    return (num_sqr_plus - math.floor(num_sqr_plus)==0)|(num_sqr_minus - math.floor(num_sqr_minus)==0)"
   ]
  },
  {
   "cell_type": "code",
   "execution_count": 13,
   "metadata": {},
   "outputs": [
    {
     "data": {
      "text/plain": [
       "True"
      ]
     },
     "execution_count": 13,
     "metadata": {},
     "output_type": "execute_result"
    }
   ],
   "source": [
    "check_fib(13)"
   ]
  },
  {
   "cell_type": "code",
   "execution_count": 15,
   "metadata": {},
   "outputs": [
    {
     "name": "stdout",
     "output_type": "stream",
     "text": [
      "Enter Number to Check if it is part of the fibonacci sequence  \n",
      "Number-->4\n",
      "The number 4 is part of fibonacci sequence? False\n"
     ]
    }
   ],
   "source": [
    "print(\"Enter Number to Check if it is part of the fibonacci sequence  \")\n",
    "x=int(input(prompt='Number-->'))\n",
    "print(\"The number {} is part of fibonacci sequence?\".format(x),check_fib(x))"
   ]
  },
  {
   "cell_type": "markdown",
   "metadata": {
    "colab_type": "text",
    "id": "cAEzscC9N3-y"
   },
   "source": [
    "# Success Message\n",
    "\n",
    "Congrats! You have successfully finished this challenge."
   ]
  },
  {
   "cell_type": "markdown",
   "metadata": {
    "colab_type": "text",
    "id": "osK3z_CoN3-1"
   },
   "source": [
    "# String Compression\n",
    "\n",
    "Write a function `compress(word)` that given a word `word` returns the string with it's letters and how many times they occur continously together.\n",
    "\n",
    "For eg:\n",
    "\n",
    "***\n",
    "**Input**\n",
    "\n",
    "```python\n",
    "a_scramble(\"abbs\")\n",
    "```\n",
    "\n",
    "**Output**\n",
    "```python\n",
    "\"a1b2s1\"\n",
    "```\n",
    "Explanation: 1 occurence of `a`, followed by 2 occurences of `b`, followed by 1 occurence of `s`\n",
    "***\n",
    "**Input**\n",
    "\n",
    "```python\n",
    "compress(\"xxcccdex\")\n",
    "```\n",
    "\n",
    "**Output**\n",
    "```python\n",
    "\"x2c3d1e1x1\"\n",
    "```\n",
    "\n",
    "Explanation: 2 occurences of `x`, followed by 3 occurences of `c`, followed by 1 occurence of `d`, followed by 1 occurence of `e`, followed by 1 occurence of `x`"
   ]
  },
  {
   "cell_type": "markdown",
   "metadata": {
    "colab_type": "text",
    "id": "wu8IJw6XN3-3"
   },
   "source": [
    "# Hints\n",
    "\n",
    "You can take care of different cases of letters in a string by using `\"str.lower()\"`\n",
    "\n",
    "# Test Cases\n",
    "\n",
    "compress('Ss')=='s2'\n",
    "\n",
    "compress('ssggtts')=='s2g2t2s1'\n",
    "\n",
    "compress('banana')=='b1a1n1a1n1a1'"
   ]
  },
  {
   "cell_type": "code",
   "execution_count": 21,
   "metadata": {
    "colab": {},
    "colab_type": "code",
    "id": "VmxYDRg5N3-5"
   },
   "outputs": [],
   "source": [
    "from itertools import groupby\n",
    "def compress(s):\n",
    "    s=s.lower()\n",
    "    groups = groupby(s)\n",
    "    result = [(label, sum(1 for _ in group)) for label, group in groups]\n",
    "    return \"\".join(\"{}{}\".format(label, count) for label, count in result)"
   ]
  },
  {
   "cell_type": "code",
   "execution_count": 20,
   "metadata": {},
   "outputs": [
    {
     "name": "stdout",
     "output_type": "stream",
     "text": [
      "Enter the String to Compress-->ababs\n",
      "The Compressed string of ababs is a1b1a1b1s1\n"
     ]
    }
   ],
   "source": [
    "string=input(prompt=\"Enter the String to Compress-->\")\n",
    "print(\"The Compressed string of {} is {}\".format(string,compress(string)))"
   ]
  },
  {
   "cell_type": "markdown",
   "metadata": {
    "colab_type": "text",
    "id": "LbFlPWA2N3--"
   },
   "source": [
    "# Success Message\n",
    "\n",
    "Congrats! You have successfully finished this challenge."
   ]
  },
  {
   "cell_type": "markdown",
   "metadata": {
    "colab_type": "text",
    "id": "KdACLfoMN3-_"
   },
   "source": [
    "# K-Distinct\n",
    "\n",
    "Write a function `k_distinct(string,k)` that given a string `'string'` and number `'k'`, it checks whether the `'string'` has `'k'` distinct characters\n",
    "\n",
    "For eg:\n",
    "***\n",
    "**Input**\n",
    "\n",
    "```python\n",
    "k_distinct('Messoptamia',8)\n",
    "```\n",
    "\n",
    "**Output**\n",
    "```python\n",
    "True\n",
    "```\n",
    "***\n",
    "**Input**\n",
    "\n",
    "```python\n",
    "k_distinct('banana',4)\n",
    "```\n",
    "\n",
    "**Output**\n",
    "```python\n",
    "False\n",
    "```\n"
   ]
  },
  {
   "cell_type": "markdown",
   "metadata": {
    "colab_type": "text",
    "id": "2Yc6VqB7N3_B"
   },
   "source": [
    "# Hints\n",
    "\n",
    "You can take care of different cases of letters in a string by using `\"str.lower()\"`\n",
    "\n",
    "\n",
    "# Test Cases\n",
    "\n",
    "\n",
    "k_distinct('SUBBOOKKEEPER',8)==True\n",
    "\n",
    "k_distinct('Rhythm',6)==False\n",
    "\n",
    "k_distinct('Falafel',5)==False"
   ]
  },
  {
   "cell_type": "code",
   "execution_count": 0,
   "metadata": {
    "colab": {},
    "colab_type": "code",
    "id": "A87nE5__N3_C"
   },
   "outputs": [],
   "source": [
    "def k_distinct(string,k):\n",
    "    temp=len(set(list(string.lower())))\n",
    "    return temp==k"
   ]
  },
  {
   "cell_type": "code",
   "execution_count": null,
   "metadata": {},
   "outputs": [],
   "source": [
    "string=input(prompt=\"Enter the String-->\")\n",
    "k=int(input(prompt=\"Enter the Number-->\"))\n",
    "print(\"The number of string of {} is {}\".format(string,k_distinct))"
   ]
  },
  {
   "cell_type": "markdown",
   "metadata": {
    "colab_type": "text",
    "id": "0SUIWtnlN3_G"
   },
   "source": [
    "# Success Message\n",
    "\n",
    "Congrats! You have successfully finished this challenge."
   ]
  }
 ],
 "metadata": {
  "colab": {
   "collapsed_sections": [],
   "name": "PMC.ipynb",
   "provenance": []
  },
  "kernelspec": {
   "display_name": "Python 3",
   "language": "python",
   "name": "python3"
  },
  "language_info": {
   "codemirror_mode": {
    "name": "ipython",
    "version": 3
   },
   "file_extension": ".py",
   "mimetype": "text/x-python",
   "name": "python",
   "nbconvert_exporter": "python",
   "pygments_lexer": "ipython3",
   "version": "3.7.4"
  }
 },
 "nbformat": 4,
 "nbformat_minor": 1
}
